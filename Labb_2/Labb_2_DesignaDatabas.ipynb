{
 "cells": [
  {
   "cell_type": "code",
   "execution_count": 3,
   "id": "222d3530",
   "metadata": {},
   "outputs": [
    {
     "name": "stdout",
     "output_type": "stream",
     "text": [
      "Successfully connected to everyloop on server localhost\n"
     ]
    }
   ],
   "source": [
    "from sqlalchemy import create_engine\n",
    "server = \"localhost\"\n",
    "database = \"everyloop\"\n",
    "driver = \"ODBC Driver 17 for SQL Server\"\n",
    "engine = create_engine(f\"mssql+pyodbc://{server}/{database}?Trusted_Connection=yes&driver={driver}\")\n",
    "\n",
    "with engine.connect() as connection:\n",
    "    print(f\"Successfully connected to {database} on server {server}\")\n"
   ]
  }
 ],
 "metadata": {
  "kernelspec": {
   "display_name": "python (sqlvenv)",
   "language": "python",
   "name": "sqlvenv"
  },
  "language_info": {
   "codemirror_mode": {
    "name": "ipython",
    "version": 3
   },
   "file_extension": ".py",
   "mimetype": "text/x-python",
   "name": "python",
   "nbconvert_exporter": "python",
   "pygments_lexer": "ipython3",
   "version": "3.12.6"
  }
 },
 "nbformat": 4,
 "nbformat_minor": 5
}
