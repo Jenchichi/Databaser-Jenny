{
 "cells": [
  {
   "cell_type": "code",
   "execution_count": null,
   "id": "222d3530",
   "metadata": {},
   "outputs": [
    {
     "name": "stdout",
     "output_type": "stream",
     "text": [
      "Successfully connected to Bokhandel on server localhost\n"
     ]
    }
   ],
   "source": [
    "from sqlalchemy import create_engine\n",
    "\n",
    "server = \"localhost\"\n",
    "database = \"Bokhandel\"\n",
    "driver = \"ODBC Driver 17 for SQL Server\"\n",
    "engine = create_engine(f\"mssql+pyodbc://{server}/{database}?Trusted_Connection=yes&driver={driver}\")\n",
    "\n",
    "with engine.connect() as connection:\n",
    "    print(f\"Successfully connected to {database} on server {server}\")\n"
   ]
  },
  {
   "cell_type": "code",
   "execution_count": 9,
   "id": "3b049d64",
   "metadata": {},
   "outputs": [
    {
     "name": "stdout",
     "output_type": "stream",
     "text": [
      "Bok: Ronja Rövardotter, Butik: Jennys Hörna i Stockholm, Antal: 8\n",
      "Bok: Ronja Rövardotter, Butik: Jennys Hörna i Göteborg, Antal: 5\n",
      "Bok: Ronja Rövardotter, Butik: Jennys Hörna i Malmö, Antal: 9\n"
     ]
    }
   ],
   "source": [
    "from sqlalchemy import create_engine, Column, Integer, String, ForeignKey, CHAR\n",
    "from sqlalchemy.orm import sessionmaker, declarative_base, relationship\n",
    "\n",
    "# Anslut med användaren Bokhandel,\n",
    "server = \"localhost\"\n",
    "database = \"Bokhandel\"\n",
    "driver = \"ODBC Driver 17 for SQL Server\"\n",
    "engine = create_engine(f\"mssql+pyodbc://{server}/{database}?Trusted_Connection=yes&driver={driver}\")\n",
    "\n",
    "Session = sessionmaker(bind=engine)\n",
    "session = Session()\n",
    "\n",
    "Base = declarative_base()\n",
    "\n",
    "class Böcker(Base):\n",
    "    __tablename__ = 'Böcker'\n",
    "    ISBN13 = Column(CHAR(13), primary_key=True)\n",
    "    Titel = Column(String)\n",
    "\n",
    "\n",
    "class Butiker(Base):\n",
    "    __tablename__ = 'Butiker'\n",
    "    ButikID = Column(Integer, primary_key=True)\n",
    "    Butiksnamn = Column(String)\n",
    "    Ort = Column(String)\n",
    "\n",
    "class LagerSaldo(Base):\n",
    "    __tablename__ = 'LagerSaldo'\n",
    "    ButikID = Column(Integer, ForeignKey('Butiker.ButikID'), primary_key=True)\n",
    "    ISBN = Column(CHAR(13), ForeignKey('Böcker.ISBN13'), primary_key=True)\n",
    "    Antal = Column(Integer)\n",
    "    butik = relationship('Butiker')\n",
    "    bok = relationship('Böcker')\n",
    "\n",
    "# Fritextsökning på boktitel,\n",
    "search_term = input(\"Ange sökord för boktitel: \")\n",
    "\n",
    "results = (\n",
    "    session.query(Böcker.Titel, Butiker.Butiksnamn, Butiker.Ort, LagerSaldo.Antal) \n",
    "    .join(LagerSaldo, LagerSaldo.ISBN == Böcker.ISBN13)\n",
    "    .join(Butiker, Butiker.ButikID == LagerSaldo.ButikID)\n",
    "    .filter(Böcker.Titel.ilike(f\"%{search_term}%\"))\n",
    "    .all()\n",
    ")\n",
    "\n",
    "if results:\n",
    "    for titel, butik, ort, antal in results:\n",
    "        print(f\"Bok: {titel}, Butik: {butik} i {ort}, Antal: {antal}\")\n",
    "else:\n",
    "    print(\"Inga böcker hittades.\")\n",
    "\n",
    "session.close()"
   ]
  }
 ],
 "metadata": {
  "kernelspec": {
   "display_name": "python (sqlvenv)",
   "language": "python",
   "name": "sqlvenv"
  },
  "language_info": {
   "codemirror_mode": {
    "name": "ipython",
    "version": 3
   },
   "file_extension": ".py",
   "mimetype": "text/x-python",
   "name": "python",
   "nbconvert_exporter": "python",
   "pygments_lexer": "ipython3",
   "version": "3.12.6"
  }
 },
 "nbformat": 4,
 "nbformat_minor": 5
}
